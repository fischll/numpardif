{
 "cells": [
  {
   "cell_type": "code",
   "execution_count": 11,
   "metadata": {},
   "outputs": [],
   "source": [
    "import netgen.gui\n",
    "from ngsolve import *\n",
    "from netgen.geom2d import SplineGeometry\n",
    "get_ipython().run_line_magic('gui', 'tk')\n",
    "\n",
    "geom = SplineGeometry()\n",
    "geom.AddRectangle((0,0),(1,1),bcs= (\"bottom\", \"right\", \"top\", \"left\"))\n",
    "mesh = Mesh(geom.GenerateMesh (maxh=0.1))\n",
    "Draw(mesh)"
   ]
  },
  {
   "cell_type": "code",
   "execution_count": 12,
   "metadata": {},
   "outputs": [],
   "source": [
    "def solve(t,gfu,fes):\n",
    "    w, beta_x, beta_y = fes.TrialFunction() #def w und beta\n",
    "    v, delta_x, delta_y = fes.TestFunction() #def v und delta\n",
    "\n",
    "    beta  = CoefficientFunction( (beta_x,  beta_y) )\n",
    "    delta = CoefficientFunction( (delta_x, delta_y) )\n",
    "    grad_beta  = CoefficientFunction( (beta_x.Deriv(),  beta_y.Deriv()) , dims=(2,2))\n",
    "    grad_delta = CoefficientFunction( (delta_x.Deriv(), delta_y.Deriv()) ,dims=(2,2))\n",
    "\n",
    "    grad_w = w.Deriv()\n",
    "    grad_v = v.Deriv()\n",
    "\n",
    "    a = BilinearForm(fes)\n",
    "    f = LinearForm(fes)\n",
    "    a += SymbolicBFI ( InnerProduct(grad_beta,grad_delta) + 1/t/t * (InnerProduct(grad_w - beta ,grad_v - delta)) )\n",
    "    f += SymbolicLFI ( v )\n",
    "\n",
    "    a.Assemble()\n",
    "    f.Assemble()\n",
    "\n",
    "    gfu.vec.data = a.mat.Inverse(fes.FreeDofs()) * f.vec"
   ]
  },
  {
   "cell_type": "code",
   "execution_count": 13,
   "metadata": {},
   "outputs": [],
   "source": [
    "def func(fes1,fes2):\n",
    "    fes = FESpace([fes1, fes2, fes2]) #Produktraum\n",
    "    t = [0.1, 0.01, 0.001]\n",
    "    \n",
    "    for n in range(1,4):\n",
    "        gfu = GridFunction(fes)\n",
    "        solve(t[n-1] ,gfu,fes)\n",
    "        w,beta_x,beta_y = gfu.components\n",
    "        \n",
    "        beta = CoefficientFunction((beta_x,beta_y)) \n",
    "        Draw (w, mesh, \"w\" + str(n))\n",
    "        Draw (beta, mesh, \"beta\" + str(n))\n",
    "    \n",
    "        err = sqrt(Integrate( (w.Deriv() - beta)*(w.Deriv() - beta) , mesh, VOL)) #L_2 Norm von grad_w - beta\n",
    "        print(str(n) + \"dif: \" , err)"
   ]
  },
  {
   "cell_type": "code",
   "execution_count": 15,
   "metadata": {},
   "outputs": [
    {
     "name": "stdout",
     "output_type": "stream",
     "text": [
      "1dif:  0.0018899895556909235\n",
      "2dif:  3.743773535312528e-05\n",
      "3dif:  9.37612676669301e-06\n"
     ]
    }
   ],
   "source": [
    "poly_ordnung =2\n",
    "\n",
    "fes1 = H1(mesh, order=poly_ordnung, dirichlet = \"bottom|right|top|left\")\n",
    "fes2 = H1(mesh, order=poly_ordnung, dirichlet = \"bottom|right|top|left\")\n",
    "func(fes1,fes2)"
   ]
  },
  {
   "cell_type": "code",
   "execution_count": 16,
   "metadata": {},
   "outputs": [
    {
     "name": "stdout",
     "output_type": "stream",
     "text": [
      "1dif:  0.0023933975394826346\n",
      "2dif:  5.5867011081818696e-05\n",
      "3dif:  6.598477870993186e-06\n"
     ]
    }
   ],
   "source": [
    "fes1 = H1(mesh, order=poly_ordnung, dirichlet = \"bottom|right|top|left\")\n",
    "fes2 = H1(mesh, order=poly_ordnung)\n",
    "func(fes1,fes2)"
   ]
  },
  {
   "cell_type": "code",
   "execution_count": 17,
   "metadata": {},
   "outputs": [
    {
     "name": "stdout",
     "output_type": "stream",
     "text": [
      "1dif:  0.003585485157148733\n",
      "2dif:  0.00013833431662118673\n",
      "3dif:  1.0636897317942441e-05\n"
     ]
    }
   ],
   "source": [
    "fes1 = H1(mesh, order=poly_ordnung, dirichlet = \"bottom|top\")\n",
    "fes2 = H1(mesh, order=poly_ordnung, dirichlet = \"right|left\")\n",
    "func(fes1,fes2)"
   ]
  },
  {
   "cell_type": "code",
   "execution_count": null,
   "metadata": {},
   "outputs": [],
   "source": []
  }
 ],
 "metadata": {
  "kernelspec": {
   "display_name": "Python 3",
   "language": "python",
   "name": "python3"
  },
  "language_info": {
   "codemirror_mode": {
    "name": "ipython",
    "version": 3
   },
   "file_extension": ".py",
   "mimetype": "text/x-python",
   "name": "python",
   "nbconvert_exporter": "python",
   "pygments_lexer": "ipython3",
   "version": "3.6.6"
  }
 },
 "nbformat": 4,
 "nbformat_minor": 2
}
