{
 "cells": [
  {
   "cell_type": "code",
   "execution_count": 1,
   "metadata": {},
   "outputs": [],
   "source": [
    "import netgen.gui\n",
    "from ngsolve import *\n",
    "%gui tk"
   ]
  },
  {
   "cell_type": "code",
   "execution_count": 2,
   "metadata": {},
   "outputs": [],
   "source": [
    "def L2Norm(gfu, mesh):\n",
    "    return sqrt(Integrate(gfu*gfu, mesh))\n",
    "def H1Norm(gfu, mesh):\n",
    "    return sqrt(Integrate(grad(gfu)*grad(gfu), mesh))"
   ]
  },
  {
   "cell_type": "code",
   "execution_count": 5,
   "metadata": {},
   "outputs": [],
   "source": [
    "from netgen.geom2d import *\n",
    "geom = SplineGeometry()\n",
    "pnts = [(0,0), (2,0), (2,1), (1,1), (1,2), (0,2)]\n",
    "nums = [geom.AppendPoint(*p) for p in pnts]\n",
    "lines = [(nums[0], nums[1], 10, 1, 0, \"b\"),\n",
    "         (nums[1], nums[2], 10, 1, 0, \"r\"),\n",
    "         (nums[2], nums[3], 10, 1, 0, \"t\"),\n",
    "         (nums[3], nums[4], 10, 1, 0, \"r\"),\n",
    "         (nums[4], nums[5], 10, 1, 0, \"t\"),\n",
    "         (nums[5], nums[0], 10, 1, 0, \"l\")]\n",
    "\n",
    "for p0, p1, bn, ml, mr, name in lines:\n",
    "    geom.Append( [ \"line\", p0, p1 ],  bc=name, leftdomain=ml, rightdomain=mr)\n",
    "    #geom.Append( [ \"line\", p0, p1 ], bc=bn, leftdomain=ml, rightdomain=mr)\n",
    "\n",
    "mesh = Mesh(geom.GenerateMesh(maxh=0.2))\n",
    "Draw(mesh)"
   ]
  },
  {
   "cell_type": "code",
   "execution_count": 6,
   "metadata": {},
   "outputs": [],
   "source": [
    "#def FEmSpace\n",
    "fes = H1(mesh, order=3, dirichlet =\"b|t\")\n",
    "a = BilinearForm(fes)\n",
    "f = LinearForm(fes)\n",
    "gfu = GridFunction(fes)"
   ]
  },
  {
   "cell_type": "code",
   "execution_count": 7,
   "metadata": {},
   "outputs": [
    {
     "name": "stdout",
     "output_type": "stream",
     "text": [
      "('b', 'r', 't', 'r', 't', 'l')\n"
     ]
    },
    {
     "data": {
      "text/plain": [
       "799"
      ]
     },
     "execution_count": 7,
     "metadata": {},
     "output_type": "execute_result"
    }
   ],
   "source": [
    "fes.ndof\n",
    "print(mesh.GetBoundaries())\n",
    "sum(fes.FreeDofs())"
   ]
  },
  {
   "cell_type": "code",
   "execution_count": 8,
   "metadata": {},
   "outputs": [],
   "source": [
    "#def test and trial-functions\n",
    "u = fes.TrialFunction()\n",
    "v = fes.TestFunction()\n",
    "a += SymbolicBFI (grad(u)*grad(v))\n",
    "funcf = 1\n",
    "f += SymbolicLFI (funcf*v)"
   ]
  },
  {
   "cell_type": "code",
   "execution_count": 9,
   "metadata": {},
   "outputs": [],
   "source": [
    "a.Assemble()\n",
    "f.Assemble()"
   ]
  },
  {
   "cell_type": "code",
   "execution_count": 10,
   "metadata": {},
   "outputs": [],
   "source": [
    "gfu.vec.data = a.mat.Inverse(freedofs = fes.FreeDofs()) * f.vec\n",
    "Draw (gfu, mesh, \"temperature\")\n",
    "Draw (-grad(gfu), mesh, \"grad_temp\")"
   ]
  },
  {
   "cell_type": "code",
   "execution_count": 11,
   "metadata": {},
   "outputs": [],
   "source": [
    "error_L2 = []\n",
    "error_H1 = []\n",
    "funcf = 1\n",
    "for i in range(1,9):\n",
    "    \n",
    "    fes1 = H1(mesh, order=i, dirichlet =\".*\")\n",
    "    a1 = BilinearForm(fes1)\n",
    "    f1 = LinearForm(fes1)\n",
    "    gfu1 = GridFunction(fes1)\n",
    "    u1 = fes1.TrialFunction()\n",
    "    v1 = fes1.TestFunction()\n",
    "    a1 += SymbolicBFI (grad(u1)*grad(v1))\n",
    "    f1 += SymbolicLFI (funcf*v1)\n",
    "    a1.Assemble()\n",
    "    f1.Assemble()\n",
    "    gfu1.vec.data = a1.mat.Inverse(freedofs = fes1.FreeDofs()) * f1.vec\n",
    "    \n",
    "    fes2 = H1(mesh, order=i+2, dirichlet =\".*\")\n",
    "    a2 = BilinearForm(fes2)\n",
    "    f2 = LinearForm(fes2)\n",
    "    gfu2 = GridFunction(fes2)\n",
    "    u2 = fes2.TrialFunction()\n",
    "    v2 = fes2.TestFunction()\n",
    "    a2 += SymbolicBFI (grad(u2)*grad(v2))\n",
    "    f2 += SymbolicLFI (funcf*v2)\n",
    "    a2.Assemble()\n",
    "    f2.Assemble()\n",
    "    gfu2.vec.data = a2.mat.Inverse(freedofs = fes2.FreeDofs()) * f2.vec\n",
    "    \n",
    "    error_L2.append(L2Norm(gfu1-gfu2, mesh))\n",
    "    error_H1.append(L2Norm(grad(gfu1)-grad(gfu2), mesh))"
   ]
  },
  {
   "cell_type": "code",
   "execution_count": 10,
   "metadata": {},
   "outputs": [
    {
     "data": {
      "text/plain": [
       "[0.007978498234530194,\n",
       " 0.0007525545018318147,\n",
       " 0.00025192954984236426,\n",
       " 0.00012931193047843693,\n",
       " 6.680985957295446e-05,\n",
       " 4.192379143905033e-05,\n",
       " 3.099987187407328e-05,\n",
       " 1.4181213630393356e-05]"
      ]
     },
     "execution_count": 10,
     "metadata": {},
     "output_type": "execute_result"
    }
   ],
   "source": [
    "error_L2"
   ]
  },
  {
   "cell_type": "code",
   "execution_count": 11,
   "metadata": {},
   "outputs": [
    {
     "data": {
      "text/plain": [
       "[0.10929511151107904,\n",
       " 0.024743090434198804,\n",
       " 0.013135429029516555,\n",
       " 0.007245820255841411,\n",
       " 0.006763030464752174,\n",
       " 0.0046258787549652985,\n",
       " 0.002787922965504177,\n",
       " 0.002566180736166219]"
      ]
     },
     "execution_count": 11,
     "metadata": {},
     "output_type": "execute_result"
    }
   ],
   "source": [
    "error_H1"
   ]
  },
  {
   "cell_type": "code",
   "execution_count": null,
   "metadata": {},
   "outputs": [],
   "source": []
  }
 ],
 "metadata": {
  "kernelspec": {
   "display_name": "Python 3",
   "language": "python",
   "name": "python3"
  },
  "language_info": {
   "codemirror_mode": {
    "name": "ipython",
    "version": 3
   },
   "file_extension": ".py",
   "mimetype": "text/x-python",
   "name": "python",
   "nbconvert_exporter": "python",
   "pygments_lexer": "ipython3",
   "version": "3.6.6"
  }
 },
 "nbformat": 4,
 "nbformat_minor": 2
}
