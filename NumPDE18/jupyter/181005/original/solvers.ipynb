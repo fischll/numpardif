{
 "cells": [
  {
   "cell_type": "markdown",
   "metadata": {},
   "source": [
    "Iterative Solvers\n",
    "===\n",
    "\n",
    "So far we have used direct solvers to solve the linear system of equations. Although a direct solver can profit from the sparse matrix, it's arithmetic complexity is sub-optimal. For large-scale problems iterative solvers are a must.\n",
    "\n",
    "The conjugate gradient (cg) method is the standard method for symmetric and positive definite matrices. It's convergence rate depends on a preconditioner, what is a cheap approximative inverse to the matrix."
   ]
  },
  {
   "cell_type": "code",
   "execution_count": 1,
   "metadata": {
    "collapsed": true
   },
   "outputs": [],
   "source": [
    "import netgen.gui\n",
    "from ngsolve import *\n",
    "%gui tk"
   ]
  },
  {
   "cell_type": "markdown",
   "metadata": {},
   "source": [
    "We generate a 3D geometry and mesh using the constructive solid geometry (CSG) modeler of Netgen:"
   ]
  },
  {
   "cell_type": "code",
   "execution_count": 19,
   "metadata": {
    "collapsed": true
   },
   "outputs": [],
   "source": [
    "from netgen.csg import *\n",
    "geo = CSGeometry()\n",
    "cube = OrthoBrick (Pnt(0,0,0), Pnt(1,1,1)).bc(\"outer\")\n",
    "cyl = Cylinder( Pnt(1,0.5,0.5), Pnt(0,0.5,0.5), 0.2).bc(\"inner\")\n",
    "geo.Add (cube-cyl, col=(0,0,1))\n",
    "geo.Draw()\n",
    "\n",
    "mesh = Mesh(geo.GenerateMesh(maxh=0.1))\n",
    "mesh.Refine()\n",
    "mesh.Refine()\n",
    "mesh.Curve(3)\n",
    "Draw (mesh)"
   ]
  },
  {
   "cell_type": "code",
   "execution_count": 20,
   "metadata": {},
   "outputs": [
    {
     "name": "stdout",
     "output_type": "stream",
     "text": [
      "we have 1560464 unknowns\n"
     ]
    }
   ],
   "source": [
    "fes = H1(mesh, order=3, dirichlet=\"outer\", flags = { \"wb_withoutedges\" : True })\n",
    "print (\"we have\", fes.ndof, \"unknowns\")\n",
    "u = fes.TrialFunction()\n",
    "v = fes.TestFunction()\n",
    "\n",
    "a = BilinearForm(fes)\n",
    "a += SymbolicBFI(grad(u)*grad(v))\n",
    "\n",
    "f = LinearForm(fes)\n",
    "f += SymbolicLFI(v)\n",
    "\n",
    "# c = Preconditioner(a, \"local\")\n",
    "# c = Preconditioner(a, \"direct\", inverse=\"sparsecholesky\")\n",
    "c = Preconditioner(a, \"bddc\")\n",
    "\n",
    "gfu = GridFunction(fes)"
   ]
  },
  {
   "cell_type": "markdown",
   "metadata": {},
   "source": [
    "assemble system and setup preconditioner in parallel:"
   ]
  },
  {
   "cell_type": "code",
   "execution_count": 21,
   "metadata": {
    "collapsed": true
   },
   "outputs": [],
   "source": [
    "ngsglobals.msg_level=5\n",
    "with TaskManager():\n",
    "    a.Assemble()\n",
    "    f.Assemble()"
   ]
  },
  {
   "cell_type": "markdown",
   "metadata": {},
   "source": [
    "solve the system using the preconditioned conjugate gradient method:"
   ]
  },
  {
   "cell_type": "code",
   "execution_count": null,
   "metadata": {
    "scrolled": false
   },
   "outputs": [
    {
     "name": "stdout",
     "output_type": "stream",
     "text": [
      "it =  0  err =  0.28712089056269857\n",
      "it =  1  err =  0.10749286926619048\n",
      "it =  2  err =  0.08752453658398944\n",
      "it =  3  err =  0.07039491341804945\n",
      "it =  4  err =  0.05077599365114595\n",
      "it =  5  err =  0.03360351715919447\n",
      "it =  6  err =  0.02170035970419196\n",
      "it =  7  err =  0.013913972568441249\n",
      "it =  8  err =  0.00941766995942612\n",
      "it =  9  err =  0.006567387116831617\n",
      "it =  10  err =  0.004427831463017225\n",
      "it =  11  err =  0.0029178418259392124\n",
      "it =  12  err =  0.0019173542581778222\n",
      "it =  13  err =  0.0012463460302125566\n",
      "it =  14  err =  0.0008156179258766561"
     ]
    }
   ],
   "source": [
    "from ngsolve.solvers import CG\n",
    "\n",
    "with TaskManager():\n",
    "    CG (mat=a.mat, pre=c.mat, rhs=f.vec, sol=gfu.vec, \n",
    "        printrates=True, maxsteps=200)\n",
    "Draw(gfu)"
   ]
  },
  {
   "cell_type": "code",
   "execution_count": null,
   "metadata": {
    "collapsed": true
   },
   "outputs": [],
   "source": []
  }
 ],
 "metadata": {
  "kernelspec": {
   "display_name": "Python 3",
   "language": "python",
   "name": "python3"
  },
  "language_info": {
   "codemirror_mode": {
    "name": "ipython",
    "version": 3
   },
   "file_extension": ".py",
   "mimetype": "text/x-python",
   "name": "python",
   "nbconvert_exporter": "python",
   "pygments_lexer": "ipython3",
   "version": "3.6.2"
  }
 },
 "nbformat": 4,
 "nbformat_minor": 2
}
