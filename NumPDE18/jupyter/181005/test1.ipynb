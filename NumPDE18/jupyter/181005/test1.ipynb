{
 "cells": [
  {
   "cell_type": "markdown",
   "metadata": {},
   "source": [
    "A random collection of information  ..."
   ]
  },
  {
   "cell_type": "code",
   "execution_count": 3,
   "metadata": {},
   "outputs": [],
   "source": [
    "import netgen.gui\n",
    "from netgen.geom2d import unit_square\n",
    "from ngsolve import *"
   ]
  },
  {
   "cell_type": "markdown",
   "metadata": {},
   "source": [
    "There is a class Mesh in Netgen, and a class Mesh in NGSolve:\n",
    "* Netgen: geometry, mesh generation\n",
    "* NGSolve: finite elements, linear algebra"
   ]
  },
  {
   "cell_type": "code",
   "execution_count": 4,
   "metadata": {},
   "outputs": [
    {
     "data": {
      "text/plain": [
       "(netgen.libngpy._meshing.Mesh, ngsolve.comp.Mesh)"
      ]
     },
     "execution_count": 4,
     "metadata": {},
     "output_type": "execute_result"
    }
   ],
   "source": [
    "ngmesh = unit_square.GenerateMesh(maxh=0.3)\n",
    "mesh = Mesh(ngmesh)\n",
    "type(ngmesh), type(mesh)"
   ]
  },
  {
   "cell_type": "markdown",
   "metadata": {},
   "source": [
    "## Geometric modeling in 2D:\n",
    "\n",
    "A geometry consists of lines:"
   ]
  },
  {
   "cell_type": "code",
   "execution_count": 5,
   "metadata": {},
   "outputs": [
    {
     "name": "stdout",
     "output_type": "stream",
     "text": [
      "point numbers:  [0, 1, 2, 3]\n"
     ]
    }
   ],
   "source": [
    "from netgen.geom2d import SplineGeometry\n",
    "geometry = SplineGeometry()\n",
    "\n",
    "pnts = [ (0,0), (2,0), (1,1), (0,1) ]\n",
    "pnums = [geometry.AddPoint(*p) for p in pnts]\n",
    "print (\"point numbers: \", pnums)\n",
    "\n",
    "lines = [(0,1), (1,2), (2,3), (3,0)]\n",
    "for l in lines:\n",
    "    geometry.AddSegment([\"line\", pnums[l[0]], pnums[l[1]]])\n",
    "    \n",
    "mesh = Mesh(geometry.GenerateMesh(maxh=0.2))\n",
    "Draw (mesh)"
   ]
  },
  {
   "cell_type": "markdown",
   "metadata": {},
   "source": [
    "or quadratic rational splines: "
   ]
  },
  {
   "cell_type": "code",
   "execution_count": 49,
   "metadata": {},
   "outputs": [],
   "source": [
    "from netgen.geom2d import SplineGeometry\n",
    "geometry = SplineGeometry()\n",
    "\n",
    "pnts = [ (0,0), (2,0), (2,1), (1,1), (0,1) ]\n",
    "pnums = [geometry.AddPoint(*p) for p in pnts]\n",
    "\n",
    "geometry.AddSegment([\"line\", 0, 1])\n",
    "geometry.AddSegment([\"spline3\", 1, 2, 3])\n",
    "geometry.AddSegment([\"line\", 3, 4])\n",
    "geometry.AddSegment([\"line\", 4, 0])\n",
    "\n",
    "mesh = Mesh(geometry.GenerateMesh(maxh=0.2))\n",
    "Draw (mesh)"
   ]
  },
  {
   "cell_type": "markdown",
   "metadata": {},
   "source": [
    "Multiple sub-domains:"
   ]
  },
  {
   "cell_type": "code",
   "execution_count": 7,
   "metadata": {},
   "outputs": [],
   "source": [
    "from netgen.geom2d import SplineGeometry\n",
    "geometry = SplineGeometry()\n",
    "\n",
    "pnts = [ (0,0), (1,0), (2,0), (2,1), (1,1), (0,1) ]\n",
    "pnums = [geometry.AddPoint(*p) for p in pnts]\n",
    "\n",
    "geometry.AddSegment([\"line\", 0, 1], leftdomain=1, rightdomain=0, bc=\"bot\")\n",
    "geometry.AddSegment([\"line\", 1, 2], leftdomain=2, rightdomain=0, bc=\"bot\")\n",
    "geometry.AddSegment([\"line\", 2, 3], leftdomain=2, rightdomain=0, bc=\"right\")\n",
    "geometry.AddSegment([\"line\", 3, 4], leftdomain=2, rightdomain=0)\n",
    "geometry.AddSegment([\"line\", 4, 5], leftdomain=1, rightdomain=0)\n",
    "geometry.AddSegment([\"line\", 5, 0], leftdomain=1, rightdomain=0)\n",
    "geometry.AddSegment([\"line\", 1, 4], leftdomain=1, rightdomain=2, bc=\"inner\")\n",
    "\n",
    "geometry.SetMaterial(1, \"Omega1\")\n",
    "geometry.SetMaterial(2, \"Omega2\")\n",
    "\n",
    "mesh = Mesh (geometry.GenerateMesh(maxh=0.2))\n",
    "Draw (mesh)"
   ]
  },
  {
   "cell_type": "code",
   "execution_count": 8,
   "metadata": {},
   "outputs": [
    {
     "name": "stdout",
     "output_type": "stream",
     "text": [
      "material names:  ('Omega1', 'Omega2')\n",
      "boundary condition names: ('bot', 'bot', 'right', 'default', 'default', 'default', 'inner')\n"
     ]
    }
   ],
   "source": [
    "print (\"material names: \", mesh.GetMaterials())\n",
    "print (\"boundary condition names:\", mesh.GetBoundaries())"
   ]
  },
  {
   "cell_type": "markdown",
   "metadata": {},
   "source": [
    "## CoefficientFunctions\n",
    "are functions which are defined on a mesh"
   ]
  },
  {
   "cell_type": "code",
   "execution_count": 9,
   "metadata": {},
   "outputs": [
    {
     "name": "stdout",
     "output_type": "stream",
     "text": [
      "coef binary operation '*', real\n",
      "  coef coordinate y, real\n",
      "  coef unary operation 'sin', real\n",
      "    coef N5ngfem24ScaleCoefficientFunctionE, real\n",
      "      coef coordinate x, real\n",
      "\n"
     ]
    }
   ],
   "source": [
    "func = y*sin(10*x)\n",
    "print (func)"
   ]
  },
  {
   "cell_type": "code",
   "execution_count": 10,
   "metadata": {},
   "outputs": [],
   "source": [
    "Draw (func, mesh, \"firstfunc\")"
   ]
  },
  {
   "cell_type": "markdown",
   "metadata": {},
   "source": [
    "Functions defined on sub-domains: use a list"
   ]
  },
  {
   "cell_type": "code",
   "execution_count": 11,
   "metadata": {},
   "outputs": [],
   "source": [
    "pwfunc = CoefficientFunction([0, func])\n",
    "Draw (pwfunc, mesh, \"pwfunc\")"
   ]
  },
  {
   "cell_type": "code",
   "execution_count": 12,
   "metadata": {},
   "outputs": [
    {
     "name": "stdout",
     "output_type": "stream",
     "text": [
      "integral =  0.9999999999999956\n"
     ]
    }
   ],
   "source": [
    "simplefunc = x*y\n",
    "print (\"integral = \", Integrate(simplefunc, mesh))"
   ]
  },
  {
   "cell_type": "code",
   "execution_count": 13,
   "metadata": {},
   "outputs": [
    {
     "name": "stdout",
     "output_type": "stream",
     "text": [
      "int_Om1 =  0.24999999999999903\n",
      "int_Om2 =  0.7499999999999969\n",
      "int_gamma_r =  0.999999999999997\n"
     ]
    }
   ],
   "source": [
    "print (\"int_Om1 = \", Integrate(simplefunc, mesh, definedon=mesh.Materials(\"Omega1\")))\n",
    "print (\"int_Om2 = \", Integrate(simplefunc, mesh, definedon=mesh.Materials(\"Omega2\")))\n",
    "print (\"int_gamma_r = \", Integrate(simplefunc, mesh, definedon=mesh.Boundaries(\"right\")))"
   ]
  },
  {
   "cell_type": "markdown",
   "metadata": {},
   "source": [
    "## Interpolating functions to GridFunctions:"
   ]
  },
  {
   "cell_type": "code",
   "execution_count": 48,
   "metadata": {},
   "outputs": [],
   "source": [
    "fes = H1(mesh, order=5)\n",
    "gfu = GridFunction(fes)\n",
    "func = sin(20*x)*y\n",
    "gfu.Set (func)\n",
    "Draw (gfu)"
   ]
  },
  {
   "cell_type": "markdown",
   "metadata": {},
   "source": [
    "## Evaluating in points:\n",
    "To evaluate a function (GridFunction or CoefficientFunction) in an arbitrary point within the mesh, we first have to search for the element containing the point. This is done by mesh(x,y):"
   ]
  },
  {
   "cell_type": "code",
   "execution_count": 45,
   "metadata": {},
   "outputs": [
    {
     "name": "stdout",
     "output_type": "stream",
     "text": [
      "type(mp) = <class 'ngsolve.fem.MeshPoint'>\n",
      "element number: 29\n",
      "gfu(mp) = -0.15134048437919856\n",
      "func(mp) =  -0.15136049906158558\n"
     ]
    }
   ],
   "source": [
    "mp = mesh(0.2, 0.2)\n",
    "print (\"type(mp) =\", type(mp))\n",
    "print (\"element number:\", mp.nr)\n",
    "\n",
    "print (\"gfu(mp) =\", gfu(mp))\n",
    "print (\"func(mp) = \", func(mp))"
   ]
  },
  {
   "cell_type": "code",
   "execution_count": 46,
   "metadata": {},
   "outputs": [],
   "source": [
    "xi = [0.01 * i for i in range(200)]\n",
    "vals = [gfu(mesh(x,0.9)) for x in xi]"
   ]
  },
  {
   "cell_type": "code",
   "execution_count": 47,
   "metadata": {},
   "outputs": [
    {
     "data": {
      "text/plain": [
       "[<matplotlib.lines.Line2D at 0x1220d0f28>]"
      ]
     },
     "execution_count": 47,
     "metadata": {},
     "output_type": "execute_result"
    },
    {
     "data": {
      "image/png": "[encoded data removed]",
      "text/plain": [
       "<Figure size 432x288 with 1 Axes>"
      ]
     },
     "metadata": {},
     "output_type": "display_data"
    }
   ],
   "source": [
    "import matplotlib.pyplot as plt\n",
    "plt.plot (xi, vals)"
   ]
  },
  {
   "cell_type": "code",
   "execution_count": null,
   "metadata": {},
   "outputs": [],
   "source": []
  }
 ],
 "metadata": {
  "kernelspec": {
   "display_name": "Python 3",
   "language": "python",
   "name": "python3"
  },
  "language_info": {
   "codemirror_mode": {
    "name": "ipython",
    "version": 3
   },
   "file_extension": ".py",
   "mimetype": "text/x-python",
   "name": "python",
   "nbconvert_exporter": "python",
   "pygments_lexer": "ipython3",
   "version": "3.7.0"
  }
 },
 "nbformat": 4,
 "nbformat_minor": 2
}
