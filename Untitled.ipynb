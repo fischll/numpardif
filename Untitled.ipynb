{
 "cells": [
  {
   "cell_type": "code",
   "execution_count": null,
   "metadata": {},
   "outputs": [],
   "source": []
  },
  {
   "cell_type": "code",
   "execution_count": 1,
   "metadata": {},
   "outputs": [],
   "source": [
    "import netgen.gui\n",
    "from ngsolve import *\n",
    "from ngsolve.solve import Draw, Redraw\n",
    "from netgen.csg import *\n",
    "get_ipython().run_line_magic('gui', 'tk')\n",
    "E_0 = 8.854e-12"
   ]
  },
  {
   "cell_type": "code",
   "execution_count": 7,
   "metadata": {},
   "outputs": [],
   "source": [
    "from netgen.csg import *\n",
    "\n",
    "def make_geom(R):\n",
    "    geo = CSGeometry()\n",
    "    \n",
    "    sphere = Sphere(Pnt(0,0,1),0.1).bc(\"sphere\")\n",
    "    #sphere.bc(\"sphere\")#.maxh(0.02)\n",
    "    #sphere.mat(\"iron\")\n",
    "\n",
    "    floor = Plane(Pnt(0,0,0), Vec(0,0,-1)).bc(\"floor\")\n",
    "    top = Plane(Pnt(0,0,R), Vec(0,0,1)).bc(\"top\")\n",
    "    cylinder = Cylinder(Pnt(0,0,0),Pnt(0,0,R), R).bc(\"cylinder\")\n",
    "    air = cylinder * floor * top  - sphere\n",
    "\n",
    "    geo.Add(cylinder*top*floor - sphere)\n",
    "    geo.Draw()\n",
    "    Redraw()\n",
    "    return geo\n",
    "\n"
   ]
  },
  {
   "cell_type": "code",
   "execution_count": 8,
   "metadata": {},
   "outputs": [
    {
     "data": {
      "text/plain": [
       "('cylinder', 'floor', 'top')"
      ]
     },
     "execution_count": 8,
     "metadata": {},
     "output_type": "execute_result"
    }
   ],
   "source": [
    "ngmesh = make_geom(2).GenerateMesh(maxh=0.5)\n",
    "ngmesh.Save(\"geometrie.vol\")\n",
    "mesh = Mesh(make_geom(2).GenerateMesh(maxh=0.5))\n",
    "mesh.GetBoundaries()\n"
   ]
  },
  {
   "cell_type": "code",
   "execution_count": 4,
   "metadata": {},
   "outputs": [],
   "source": [
    "fes = H1(mesh, order=1, dirichlet=[1,2,3,4])\n",
    "g = CoefficientFunction([0,0,0,1000])\n",
    "u = fes.TrialFunction()\n",
    "v = fes.TestFunction()\n",
    "a = BilinearForm(fes)\n",
    "a += SymbolicBFI(grad(u)*grad(v))\n",
    "\n",
    "f = LinearForm(fes)\n",
    "\n",
    "a.Assemble()\n",
    "f.Assemble()"
   ]
  },
  {
   "cell_type": "code",
   "execution_count": null,
   "metadata": {},
   "outputs": [],
   "source": [
    "\n",
    "gfu = GridFunction(fes)\n",
    "gfu.vec.data = a.mat.Inverse(fes.FreeDofs(), inverse=\"sparsecholesky\") * f.vec\n",
    "Draw(gfu)"
   ]
  },
  {
   "cell_type": "code",
   "execution_count": 9,
   "metadata": {},
   "outputs": [],
   "source": [
    "def MakeGeometry(R):\n",
    "    geometry = CSGeometry()\n",
    "    sphere = Sphere(Pnt(0,0,1),0.1).bc(\"sphere\")\n",
    "    xy = Plane(Pnt(0,0,0), Vec(0,0,-1)).bc(\"floor\")\n",
    "    z = Plane(Pnt(0,0,R),Vec(0,0,1)).bc(\"top\")\n",
    "    cyl = Cylinder(Pnt(0,0,-1),Pnt(0,0,2), R).bc(\"cyl\")\n",
    "    \n",
    "    geometry.Add(cyl*xy*z - sphere)\n",
    "    return geometry\n",
    "\n",
    "\n",
    "ngmesh = MakeGeometry(2).GenerateMesh(maxh=1)\n",
    "ngmesh.Save(\"plane.vol\")\n",
    "mesh = Mesh(ngmesh)\n"
   ]
  },
  {
   "cell_type": "markdown",
   "metadata": {},
   "source": [
    "mesh.GetBoundaries()\n"
   ]
  },
  {
   "cell_type": "code",
   "execution_count": 10,
   "metadata": {},
   "outputs": [
    {
     "data": {
      "text/plain": [
       "()"
      ]
     },
     "execution_count": 10,
     "metadata": {},
     "output_type": "execute_result"
    }
   ],
   "source": [
    "mesh.GetBoundaries()\n"
   ]
  },
  {
   "cell_type": "code",
   "execution_count": null,
   "metadata": {},
   "outputs": [],
   "source": []
  }
 ],
 "metadata": {
  "kernelspec": {
   "display_name": "Python 3",
   "language": "python",
   "name": "python3"
  },
  "language_info": {
   "codemirror_mode": {
    "name": "ipython",
    "version": 3
   },
   "file_extension": ".py",
   "mimetype": "text/x-python",
   "name": "python",
   "nbconvert_exporter": "python",
   "pygments_lexer": "ipython3",
   "version": "3.6.6"
  }
 },
 "nbformat": 4,
 "nbformat_minor": 2
}
