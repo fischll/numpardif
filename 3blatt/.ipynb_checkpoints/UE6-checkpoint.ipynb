{
 "cells": [
  {
   "cell_type": "code",
   "execution_count": 1,
   "metadata": {},
   "outputs": [],
   "source": [
    "import netgen.gui\n",
    "\n",
    "import netgen.geom2d as geom2d\n",
    "from ngsolve import *\n",
    "\n",
    "%gui tk"
   ]
  },
  {
   "cell_type": "code",
   "execution_count": 2,
   "metadata": {},
   "outputs": [],
   "source": [
    "geometry=geom2d.SplineGeometry()\n",
    "points=[(0,0),(1,0),(1,1),(0,1),\n",
    "        (0.3,0.5),(0.5,0.5),(0.5,0.7),(0.3,0.7)]\n",
    "geo_points=[geometry.AppendPoint(*point) for point in points]\n",
    "\n",
    "lines= [(0,1,1,2,0),(1,2,1,2,0),\n",
    "       (2,3,1,2,0),(3,0,1,2,0),\n",
    "       \n",
    "       (4,5,2,1,2),(5,6,3,1,2),\n",
    "       (6,7,4,1,2),(7,4,5,1,2)]\n",
    "\n",
    "for p1,p2,bc,left,right in lines:\n",
    "    geometry.Append(['line',geo_points[p1],geo_points[p2]], bc=bc,\n",
    "                   leftdomain=left,rightdomain=right)"
   ]
  },
  {
   "cell_type": "code",
   "execution_count": 3,
   "metadata": {},
   "outputs": [],
   "source": [
    "mesh = Mesh(geometry.GenerateMesh (maxh=0.05))"
   ]
  },
  {
   "cell_type": "code",
   "execution_count": 4,
   "metadata": {},
   "outputs": [],
   "source": [
    "Draw(mesh)"
   ]
  },
  {
   "cell_type": "code",
   "execution_count": 5,
   "metadata": {},
   "outputs": [
    {
     "name": "stdout",
     "output_type": "stream",
     "text": [
      "Warning: DomainConstantCF deprecated, just use CoefficientFunction([values])\n",
      "Warning: DomainConstantCF deprecated, just use CoefficientFunction([values])\n"
     ]
    }
   ],
   "source": [
    "order = 2\n",
    "\n",
    "fes = H1(mesh, order=order, dirichlet=[1])\n",
    "\n",
    "a = BilinearForm(fes)\n",
    "f = LinearForm(fes)\n",
    "\n",
    "u = fes.TrialFunction()\n",
    "v = fes.TestFunction()\n",
    "\n",
    "lamda = DomainConstantCF([1,10])\n",
    "fval = DomainConstantCF([1,0])\n",
    "\n",
    "a += SymbolicBFI ( lamda * u.Deriv() * v.Deriv() )\n",
    "f += SymbolicLFI ( fval * v )\n",
    "\n",
    "a.Assemble()\n",
    "f.Assemble()\n",
    "\n",
    "u = GridFunction(fes)\n",
    "\n",
    "u.vec.data = a.mat.Inverse(fes.FreeDofs()) * f.vec"
   ]
  },
  {
   "cell_type": "code",
   "execution_count": 6,
   "metadata": {},
   "outputs": [
    {
     "name": "stdout",
     "output_type": "stream",
     "text": [
      "Warning: DomainConstantCF deprecated, just use CoefficientFunction([values])\n",
      "Warning: DomainConstantCF deprecated, just use CoefficientFunction([values])\n"
     ]
    }
   ],
   "source": [
    "dudx = GridFunction(fes)\n",
    "dudy = GridFunction(fes)\n",
    "dudx.Set(lamda*u.Deriv()[0])\n",
    "dudy.Set(lamda*u.Deriv()[1])\n",
    "\n",
    "bndcoefx = DomainConstantCF([0,0, 1, 0, -1])\n",
    "bndcoefy = DomainConstantCF([0,-1, 0, 1, 0])"
   ]
  },
  {
   "cell_type": "code",
   "execution_count": 7,
   "metadata": {},
   "outputs": [
    {
     "name": "stdout",
     "output_type": "stream",
     "text": [
      "1 0.039882568065711776\n"
     ]
    }
   ],
   "source": [
    "int = Integrate(dudx*bndcoefx+dudy*bndcoefy, mesh, definedon=mesh.Boundaries('.*'))\n",
    "print(\"1\", -int)\n",
    "\n",
    "Draw(u, mesh, \"gfu\")\n",
    "Draw(dudx, mesh, \"dudxinterp\")\n",
    "Draw(dudy, mesh, \"dudyinterp\")\n",
    "Draw(u.Deriv()[0], mesh, \"dudx\")\n",
    "Draw(u.Deriv()[1], mesh, \"dudy\")\n",
    "Draw(lamda*u.Deriv()[0], mesh, \"dudxl\")\n",
    "Draw(lamda*u.Deriv()[1], mesh, \"dudyl\")"
   ]
  },
  {
   "cell_type": "code",
   "execution_count": null,
   "metadata": {},
   "outputs": [],
   "source": []
  },
  {
   "cell_type": "code",
   "execution_count": null,
   "metadata": {},
   "outputs": [],
   "source": []
  }
 ],
 "metadata": {
  "kernelspec": {
   "display_name": "Python 3",
   "language": "python",
   "name": "python3"
  },
  "language_info": {
   "codemirror_mode": {
    "name": "ipython",
    "version": 3
   },
   "file_extension": ".py",
   "mimetype": "text/x-python",
   "name": "python",
   "nbconvert_exporter": "python",
   "pygments_lexer": "ipython3",
   "version": "3.6.6"
  }
 },
 "nbformat": 4,
 "nbformat_minor": 2
}
