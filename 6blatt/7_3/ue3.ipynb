{
 "cells": [
  {
   "cell_type": "code",
   "execution_count": 1,
   "metadata": {},
   "outputs": [],
   "source": [
    "from ngsolve import *\n",
    "import netgen.gui\n",
    "from netgen.geom2d import SplineGeometry\n",
    "%gui tk"
   ]
  },
  {
   "cell_type": "code",
   "execution_count": 2,
   "metadata": {},
   "outputs": [],
   "source": [
    "def SolveBVP():\n",
    "    fes.Update()\n",
    "    gfu.Update()\n",
    "    a.Assemble()\n",
    "    f.Assemble()\n",
    "    inv = CGSolver(a.mat, c.mat)\n",
    "    gfu.vec.data = inv * f.vec\n",
    "    Redraw (blocking=True)\n",
    "    \n",
    "l = []\n",
    "def CalcError():\n",
    "    space_flux.Update()#TODO funktionale von der Angabe einprogrammieren \n",
    "    gf_flux.Update()#TODO funktionale von der Angabe einprogrammieren \n",
    "    flux = grad(gfu)#TODO funktionale von der Angabe einprogrammieren \n",
    "    # interpolate finite element flux into H(div) space:\n",
    "    gf_flux.Set (flux) #TODO funktionale von der Angabe einprogrammieren \n",
    "    \n",
    "    # Gradient-recovery error estimator\n",
    "    err = (flux-gf_flux)*(flux-gf_flux)*lam\n",
    "    elerr = Integrate (err, mesh, VOL, element_wise=True) #todo über bnd_integration integrieren\n",
    "    maxerr = max(elerr)\n",
    "    l.append ( (fes.ndof, sqrt(sum(elerr)) ))\n",
    "    print (\"maxerr = \", maxerr)\n",
    "\n",
    "    for el in mesh.Elements():\n",
    "        mesh.SetRefinementFlag(el, elerr[el.nr] > 0.25*maxerr)"
   ]
  },
  {
   "cell_type": "code",
   "execution_count": 3,
   "metadata": {},
   "outputs": [],
   "source": [
    "#      3---------------------------2\n",
    "#      |                           |\n",
    "#      |                     (1)   |\n",
    "#      |                           |\n",
    "#      |                           |\n",
    "#      |  7----6     11----10      |\n",
    "#      |  | (2)|      |    |       |\n",
    "#      |  |    |      | (3)|       |\n",
    "#      |  4----5      8----9       |\n",
    "#      |                           |\n",
    "#      |                           |\n",
    "#      |                           |\n",
    "#      0---------------------------1\n",
    "#\n",
    "\n",
    "def MakeGeometry():\n",
    "    geometry = SplineGeometry()\n",
    "    \n",
    "    # point coordinates ...\n",
    "    pnts = [ (0,0), (1,0), (1,1), (0,1), \n",
    "             (0.2,0.45), (0.3,0.45), (0.3,0.55), (0.2,0.55),\n",
    "             (0.7,0.45), (0.8,0.45), (0.8,0.55), (0.7,0.55)]\n",
    "    p = [geometry.AppendPoint(*p) for p in pnts]\n",
    "        \n",
    "    lines = [[p[0], p[1], 1, 0, \"bnd_outer\"],\n",
    "             [p[1], p[2], 1, 0, \"bnd_outer\"],\n",
    "             [p[2], p[3], 1, 0, \"bnd_outer\"],\n",
    "             [p[3], p[0], 1, 0, \"bnd_outer\"],\n",
    "             [p[4], p[5], 2, 1, \"bnd_inner\"],\n",
    "             [p[5], p[6], 2, 1, \"bnd_inner\"],\n",
    "             [p[6], p[7], 2, 1, \"bnd_inner\"],\n",
    "             [p[7], p[4], 2, 1, \"bnd_inner\"],\n",
    "             [p[8], p[9], 3, 1, \"bnd_integration\"],\n",
    "             [p[9], p[10], 3, 1, \"bnd_integration\"],\n",
    "             [p[10], p[11], 3, 1, \"bnd_integration\"],\n",
    "             [p[11], p[8], 3, 1, \"bnd_integration\"]]\n",
    "    \n",
    "    \n",
    "    for start_point, end_point, ld, rd, name in lines:\n",
    "        geometry.Append([\"line\", start_point, end_point], leftdomain=ld, rightdomain=rd ,bc=name) \n",
    "\n",
    "    geometry.SetMaterial(1,'outer')\n",
    "    geometry.SetMaterial(3,'outer')\n",
    "    geometry.SetMaterial(2,'inner')\n",
    "    \n",
    "    \n",
    "    return geometry"
   ]
  },
  {
   "cell_type": "code",
   "execution_count": 4,
   "metadata": {},
   "outputs": [],
   "source": [
    "geo = MakeGeometry()\n",
    "mesh = Mesh(geo.GenerateMesh (maxh=1))\n",
    "Draw(mesh)"
   ]
  },
  {
   "cell_type": "code",
   "execution_count": 5,
   "metadata": {},
   "outputs": [],
   "source": [
    "fes = H1(mesh, order=3, dirichlet='bnd_outer')\n",
    "u = fes.TrialFunction()\n",
    "v = fes.TestFunction()\n",
    "\n",
    "lam_val = {'inner':100, 'outer':0}\n",
    "lam = CoefficientFunction([lam_val[x] for x in mesh.GetMaterials()])\n",
    "\n",
    "a = BilinearForm(fes, symmetric=False)\n",
    "a += SymbolicBFI(grad(u)*grad(v))\n",
    "\n",
    "\n",
    "# heat-source in sub-domain 3\n",
    "f = LinearForm(fes)\n",
    "f += SymbolicLFI(lam*v)\n",
    "\n",
    "c = Preconditioner(a, type=\"multigrid\", inverse = \"sparsecholesky\")"
   ]
  },
  {
   "cell_type": "code",
   "execution_count": 6,
   "metadata": {},
   "outputs": [],
   "source": [
    "gfu = GridFunction(fes)\n",
    "Draw (gfu)\n",
    "\n",
    "# finite element space and gridfunction to represent\n",
    "# the heatflux:\n",
    "space_flux = HDiv(mesh, order=2)\n",
    "gf_flux = GridFunction(space_flux, \"flux\")\n",
    "Draw(gf_flux)"
   ]
  },
  {
   "cell_type": "code",
   "execution_count": 7,
   "metadata": {},
   "outputs": [
    {
     "name": "stdout",
     "output_type": "stream",
     "text": [
      "maxerr =  0.01212734986054724\n",
      "maxerr =  0.0009387635268524046\n",
      "maxerr =  5.0032373121924353e-05\n",
      "maxerr =  3.1029575294639574e-06\n"
     ]
    }
   ],
   "source": [
    "with TaskManager():\n",
    "    while fes.ndof < 1000:  \n",
    "        SolveBVP()\n",
    "        CalcError()\n",
    "        mesh.Refine()\n",
    "SolveBVP()"
   ]
  },
  {
   "cell_type": "code",
   "execution_count": null,
   "metadata": {},
   "outputs": [],
   "source": []
  },
  {
   "cell_type": "code",
   "execution_count": null,
   "metadata": {},
   "outputs": [],
   "source": []
  }
 ],
 "metadata": {
  "kernelspec": {
   "display_name": "Python 3",
   "language": "python",
   "name": "python3"
  },
  "language_info": {
   "codemirror_mode": {
    "name": "ipython",
    "version": 3
   },
   "file_extension": ".py",
   "mimetype": "text/x-python",
   "name": "python",
   "nbconvert_exporter": "python",
   "pygments_lexer": "ipython3",
   "version": "3.6.6"
  }
 },
 "nbformat": 4,
 "nbformat_minor": 2
}
