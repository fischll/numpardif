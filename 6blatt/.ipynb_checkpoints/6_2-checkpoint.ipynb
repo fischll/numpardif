{
 "cells": [
  {
   "cell_type": "code",
   "execution_count": 1,
   "metadata": {},
   "outputs": [],
   "source": [
    "from ngsolve import *\n",
    "import netgen.gui\n",
    "%gui tk"
   ]
  },
  {
   "cell_type": "code",
   "execution_count": 14,
   "metadata": {},
   "outputs": [],
   "source": [
    "from netgen.geom2d import SplineGeometry\n",
    "geo = SplineGeometry()\n",
    "r = 3\n",
    "pnts =[(0,0),\n",
    "       (r,0),\n",
    "       (r,r),\n",
    "       (0,r),\n",
    "       (0,1.1),\n",
    "       (0.1,1.1),\n",
    "       (0.1,1),\n",
    "       (0.1,0.9),\n",
    "       (0,0.9)]\n",
    "\n",
    "p = [geo.AppendPoint(*pnt) for pnt in pnts]\n",
    "\n",
    "curves = [[[\"line\",p[0], p[1]], \"plate\"],\n",
    "          [[\"line\",p[1], p[2]], \"zylinder\"],\n",
    "          [[\"line\",p[2], p[3]], \"zylinder\"],\n",
    "          [[\"line\",p[3], p[4]], \"axis\"],\n",
    "          [[\"spline3\",p[4],p[5],p[6]],\"curve\"],\n",
    "          [[\"spline3\",p[6],p[7],p[8]],\"curve\"],\n",
    "          [[\"line\",p[8], p[0]], \"axis\"]]\n",
    "\n",
    "[geo.Append(c,bc=name) for c,name in curves]\n",
    "\n",
    "mesh = Mesh(geo.GenerateMesh (maxh=0.2))\n",
    "Draw(mesh)"
   ]
  },
  {
   "cell_type": "code",
   "execution_count": 15,
   "metadata": {},
   "outputs": [
    {
     "name": "stdout",
     "output_type": "stream",
     "text": [
      "Warning: DomainConstantCF deprecated, just use CoefficientFunction([values])\n"
     ]
    }
   ],
   "source": [
    "fes = H1(mesh,order=2, dirichlet=\"plate|curve\")\n",
    "\n",
    "g = DomainConstantCF([0,0,0,0,1000,1000,0])\n",
    "\n",
    "u = fes.TrialFunction()\n",
    "v = fes.TestFunction()\n",
    "\n",
    "E0 = 8.854e-12\n",
    "\n",
    "a = BilinearForm(fes)\n",
    "a += SymbolicBFI(x*u.Deriv()*v.Deriv())\n",
    "\n",
    "f = LinearForm(fes)\n",
    "\n",
    "a.Assemble()\n",
    "f.Assemble()\n",
    "\n",
    "\n",
    "u = GridFunction(fes, name=\"u\")\n",
    "u.Set(g,BND)\n",
    "Draw(u)\n",
    "\n"
   ]
  },
  {
   "cell_type": "code",
   "execution_count": 16,
   "metadata": {},
   "outputs": [],
   "source": [
    "res = f.vec.CreateVector()\n",
    "res.data = f.vec -a.mat*u.vec\n",
    "u.vec.data += a.mat.Inverse(fes.FreeDofs()) * res\n",
    "\n",
    "Draw(u)\n"
   ]
  },
  {
   "cell_type": "code",
   "execution_count": 17,
   "metadata": {},
   "outputs": [
    {
     "name": "stdout",
     "output_type": "stream",
     "text": [
      "Warning: DomainConstantCF deprecated, just use CoefficientFunction([values])\n"
     ]
    }
   ],
   "source": [
    "fes = H1(mesh,order=2, dirichlet=\"plate|zylinder|curve\")\n",
    "\n",
    "g = DomainConstantCF([0,0,0,0,1000,1000,0])\n",
    "\n",
    "u = fes.TrialFunction()\n",
    "v = fes.TestFunction()\n",
    "\n",
    "E0 = 8.854e-12\n",
    "\n",
    "a = BilinearForm(fes)\n",
    "a += SymbolicBFI(x*u.Deriv()*v.Deriv())\n",
    "\n",
    "f = LinearForm(fes)\n",
    "\n",
    "a.Assemble()\n",
    "f.Assemble()\n",
    "\n",
    "\n",
    "u = GridFunction(fes, name=\"u\")\n",
    "u.Set(g,BND)\n",
    "\n",
    "res = f.vec.CreateVector()\n",
    "res.data = f.vec -a.mat*u.vec\n",
    "u.vec.data += a.mat.Inverse(fes.FreeDofs()) * res\n",
    "\n",
    "Draw(u)"
   ]
  },
  {
   "cell_type": "code",
   "execution_count": null,
   "metadata": {},
   "outputs": [],
   "source": []
  }
 ],
 "metadata": {
  "kernelspec": {
   "display_name": "Python 3",
   "language": "python",
   "name": "python3"
  },
  "language_info": {
   "codemirror_mode": {
    "name": "ipython",
    "version": 3
   },
   "file_extension": ".py",
   "mimetype": "text/x-python",
   "name": "python",
   "nbconvert_exporter": "python",
   "pygments_lexer": "ipython3",
   "version": "3.6.6"
  }
 },
 "nbformat": 4,
 "nbformat_minor": 2
}
