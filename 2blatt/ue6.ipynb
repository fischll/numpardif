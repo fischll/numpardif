{
 "cells": [
  {
   "cell_type": "code",
   "execution_count": null,
   "metadata": {},
   "outputs": [],
   "source": []
  },
  {
   "cell_type": "code",
   "execution_count": null,
   "metadata": {},
   "outputs": [],
   "source": [
    "import netgen.gui\n",
    "from ngsolve import *\n",
    "get_ipython().run_line_magic('gui', 'tk')\n",
    "from netgen.geom2d import unit_square\n",
    "\n",
    "mesh = Mesh(unit_square.GenerateMesh(maxh = 0.2))\n",
    "Draw(mesh)\n",
    "#mesh.GetBoundaries()\n"
   ]
  },
  {
   "cell_type": "code",
   "execution_count": 2,
   "metadata": {},
   "outputs": [],
   "source": [
    "#for p in range(1,3)\n",
    "fes = H1(mesh, order=3, dirichlet = 'left|right')\n",
    "gfu = GridFunction(fes)\n",
    "a = BilinearForm(fes)\n",
    "f = LinearForm(fes)\n",
    "\n",
    "u = fes.TestFunction()\n",
    "v = fes.TrialFunction()\n",
    "\n",
    "a += SymbolicBFI (grad(u)*grad(v))\n",
    "funcf = x\n",
    "f += SymbolicLFI (v*funcf)\n",
    "a.Assemble()\n",
    "f.Assemble()\n",
    "gfu.vec.data = a.mat.Inverse(freedofs = fes.FreeDofs()) * f.vec\n",
    "Draw(gfu)"
   ]
  },
  {
   "cell_type": "code",
   "execution_count": null,
   "metadata": {},
   "outputs": [],
   "source": []
  }
 ],
 "metadata": {
  "kernelspec": {
   "display_name": "Python 3",
   "language": "python",
   "name": "python3"
  },
  "language_info": {
   "codemirror_mode": {
    "name": "ipython",
    "version": 3
   },
   "file_extension": ".py",
   "mimetype": "text/x-python",
   "name": "python",
   "nbconvert_exporter": "python",
   "pygments_lexer": "ipython3",
   "version": "3.6.6"
  }
 },
 "nbformat": 4,
 "nbformat_minor": 2
}
