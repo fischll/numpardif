{
 "cells": [
  {
   "cell_type": "code",
   "execution_count": 1,
   "metadata": {},
   "outputs": [],
   "source": [
    "import netgen.gui\n",
    "from ngsolve import *\n",
    "get_ipython().run_line_magic('gui', 'tk')\n",
    "from netgen.geom2d import unit_square\n",
    "\n",
    "mesh = Mesh(unit_square.GenerateMesh(maxh = 0.2))\n",
    "Draw(mesh)\n",
    "#mesh.GetBoundaries()\n"
   ]
  },
  {
   "cell_type": "code",
   "execution_count": 2,
   "metadata": {},
   "outputs": [],
   "source": [
    "#for p in range(1,3)\n",
    "fes = H1(mesh, order=3, dirichlet = 'left|right')\n",
    "gfu = GridFunction(fes)\n",
    "a = BilinearForm(fes)\n",
    "f = LinearForm(fes)\n",
    "\n",
    "u = fes.TestFunction()\n",
    "v = fes.TrialFunction()\n",
    "\n",
    "a += SymbolicBFI (grad(u)*grad(v))\n",
    "funcf = x\n",
    "f += SymbolicLFI (v*funcf)\n",
    "a.Assemble()\n",
    "f.Assemble()\n",
    "gfu.vec.data = a.mat.Inverse(freedofs = fes.FreeDofs()) * f.vec\n",
    "Draw(gfu)"
   ]
  },
  {
   "cell_type": "code",
   "execution_count": 3,
   "metadata": {},
   "outputs": [],
   "source": [
    "#calc heatflux\n",
    "dudx = GridFunction(fes)\n",
    "dudx.Set(grad(gfu)[0])\n",
    "Draw(dudx, mesh, 'heatflux1')\n",
    "#print(Integrate(dudx, BND, region_wise=True))\n",
    "#print(Integrate(dudx, 'right|left', region_wise=True))"
   ]
  },
  {
   "cell_type": "code",
   "execution_count": 4,
   "metadata": {},
   "outputs": [],
   "source": [
    "dudx2 = grad(gfu)\n",
    "Draw(dudx2[0], mesh, 'heatflux2')\n",
    "\n",
    "\n",
    "#print(Integrate(dudx, BND, region_wise=True))\n",
    "#print(Integrate(dudx, 'right|left', region_wise=True))\n",
    "#print(Integrate(dudx, BND = 'right|left', region_wise=True))"
   ]
  },
  {
   "cell_type": "code",
   "execution_count": 36,
   "metadata": {
    "scrolled": true
   },
   "outputs": [
    {
     "name": "stdout",
     "output_type": "stream",
     "text": [
      "left a: 0.1666666666666651\n",
      "right a: -0.3333333333333307\n",
      "left b: 0.1666666666666647\n",
      "right b: -0.33333333333332976\n"
     ]
    }
   ],
   "source": [
    "def integral(region, n=10):\n",
    "    seite = {'left':0 , 'right':1}\n",
    "    sum=0\n",
    "    for i in range(0,n):\n",
    "        sum+= dudx(mesh(seite[region],i/n))/n\n",
    "    return sum\n",
    "\n",
    "\n",
    "print('left a: ' + str(integral('left')))\n",
    "print('right a: ' + str(integral('right')))\n",
    "\n",
    "print('left b: ' + str(Integrate(dudx, mesh, BND, region_wise=True)[3]))\n",
    "print('right b: ' + str(Integrate(dudx, mesh, BND, region_wise=True)[1]))"
   ]
  },
  {
   "cell_type": "code",
   "execution_count": null,
   "metadata": {},
   "outputs": [],
   "source": []
  },
  {
   "cell_type": "code",
   "execution_count": null,
   "metadata": {},
   "outputs": [],
   "source": []
  },
  {
   "cell_type": "code",
   "execution_count": null,
   "metadata": {},
   "outputs": [],
   "source": []
  }
 ],
 "metadata": {
  "kernelspec": {
   "display_name": "Python 3",
   "language": "python",
   "name": "python3"
  },
  "language_info": {
   "codemirror_mode": {
    "name": "ipython",
    "version": 2
   },
   "file_extension": ".py",
   "mimetype": "text/x-python",
   "name": "python",
   "nbconvert_exporter": "python",
   "pygments_lexer": "ipython2",
   "version": "2.7.15rc1"
  }
 },
 "nbformat": 4,
 "nbformat_minor": 2
}
