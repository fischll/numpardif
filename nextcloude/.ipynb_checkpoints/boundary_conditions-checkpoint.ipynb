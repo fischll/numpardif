{
 "cells": [
  {
   "cell_type": "markdown",
   "metadata": {},
   "source": [
    "Boundary Conditions\n",
    "===\n",
    "\n",
    "We discuss more general boundary conditions for the Poisson equation. The whole boundary is split into three non-overlapping parts: $\\partial \\Omega = \\Gamma_D \\cup \\Gamma_N \\cup \\Gamma_R$\n",
    "    \n",
    "* Dirichlet boundary conditions\n",
    "$$\n",
    "u(x) = u_D(x) \\qquad \\forall \\, x \\in \\Gamma_D\n",
    "$$\n",
    "Dirichlet boundary conditions are used, for example, to specify the temperature are the boundary.\n",
    "\n",
    "* Neumann boundary conditions\n",
    "$$\n",
    "\\frac{\\partial u}{\\partial n}(x) = g(x) \\qquad \\forall \\, x \\in \\Gamma_N\n",
    "$$\n",
    "Neumann boundary conditions model the given heat flux at the boundary, for example $g = 0$ in case of thermal insulation.\n",
    "\n",
    "* Robin boundary conditions\n",
    "$$\n",
    "\\alpha u(x) + \\frac{\\partial u}{\\partial n}(x) = \\alpha u_0(x) \\qquad \\forall \\, x \\in \\Gamma_R\n",
    "$$\n",
    "Robin boundary condition model the heat transmission at the boundary, the flux $\\partial_n u \\sim (u-u_0)$, where $u-u_0$ is the temperature difference between the domain and the environment.\n",
    "\n",
    "\n",
    "In the derivation of the weak form we had\n",
    "\n",
    "$$\n",
    "\\int_\\Omega \\nabla u \\nabla v - \\int_{\\Gamma_D \\cup \\Gamma_N \\cup \\Gamma_R} \\frac{\\partial u }{\\partial n} v = \\int_\\Omega f v \\qquad \\forall \\, v \\in H^1(\\Omega)\n",
    "$$"
   ]
  },
  {
   "cell_type": "markdown",
   "metadata": {},
   "source": [
    "Natural boundary conditions\n",
    "---\n",
    "Neumann and Robin boundary conditions are the simple ones, they can be included naturally into the variational form.\n",
    "\n",
    "Assume we don't have a Dirichlet boundary, i.e. $\\partial \\Omega = \\Gamma_N \\cup \\Gamma_R$. We replace $\\frac{\\partial u}{\\partial n}$ by the boundary condition:\n",
    "\n",
    "$$\n",
    "\\int_\\Omega \\nabla u \\nabla v - \\int_{\\Gamma_N} g v\n",
    "- \\int_{\\Gamma_R} \\alpha (u_0-u) v = \\int f v \\qquad \\forall \\, v \\in H^1(\\Omega)\n",
    "$$\n",
    "\n",
    "We see that $\\int g v$ and $\\int \\alpha u_0 v$ are linear terms in the test-function, and thus belong to the linear-form $f$:\n",
    "\n",
    "$$\n",
    "\\text{find } u \\in H^1 : \\int_{\\Omega} \\nabla u \\nabla v + \\int_{\\Gamma_R} \\alpha u v = \\int_\\Omega f v + \\int_{\\Gamma_N} g v + \\int_{\\Gamma_R} \\alpha u_0 v\n",
    "$$\n",
    "\n",
    "Thus, we have to adapt the bilinear-form and linear-form:\n",
    "\n",
    "$$\n",
    "A(u,v) = \\int_{\\Omega} \\nabla u \\nabla v + \\int_{\\Gamma_R} \\alpha u v \n",
    "$$\n",
    "\n",
    "$$\n",
    "f(v) = \\int_\\Omega f v + \\int_{\\Gamma_N} g v + \\int_{\\Gamma_R} \\alpha u_0 v\n",
    "$$"
   ]
  },
  {
   "cell_type": "code",
   "execution_count": 1,
   "metadata": {},
   "outputs": [],
   "source": [
    "import netgen.gui\n",
    "from ngsolve import *\n",
    "%gui tk"
   ]
  },
  {
   "cell_type": "code",
   "execution_count": 2,
   "metadata": {},
   "outputs": [],
   "source": [
    "from netgen.geom2d import unit_square\n",
    "mesh = Mesh(unit_square.GenerateMesh(maxh=0.1))\n",
    "\n",
    "fes = H1(mesh, order=3)\n",
    "gfu = GridFunction(fes)\n",
    "a = BilinearForm(fes)\n",
    "f = LinearForm (fes)\n",
    "\n",
    "u = fes.TrialFunction()\n",
    "v = fes.TestFunction()\n",
    "\n",
    "alpha = 10\n",
    "u0 = 293\n",
    "g = 1\n",
    "\n",
    "a += SymbolicBFI (grad(u)*grad(v))\n",
    "a += SymbolicBFI (alpha*u*v, definedon=mesh.Boundaries(\"bottom\"))\n",
    "f += SymbolicLFI (g * v, definedon=mesh.Boundaries(\"right\"))\n",
    "f += SymbolicLFI (alpha*u0*v, definedon=mesh.Boundaries(\"bottom\"))"
   ]
  },
  {
   "cell_type": "code",
   "execution_count": 3,
   "metadata": {},
   "outputs": [
    {
     "data": {
      "text/plain": [
       "('bottom', 'right', 'top', 'left')"
      ]
     },
     "execution_count": 3,
     "metadata": {},
     "output_type": "execute_result"
    }
   ],
   "source": [
    "mesh.GetBoundaries()"
   ]
  },
  {
   "cell_type": "code",
   "execution_count": 4,
   "metadata": {},
   "outputs": [],
   "source": [
    "# assemble and solve\n",
    "a.Assemble()\n",
    "f.Assemble()\n",
    "gfu.vec.data = a.mat.Inverse() * f.vec"
   ]
  },
  {
   "cell_type": "code",
   "execution_count": 5,
   "metadata": {},
   "outputs": [],
   "source": [
    "Draw (gfu, mesh, \"temperature\")\n",
    "Draw (grad(gfu), mesh, \"gradient\")"
   ]
  },
  {
   "cell_type": "markdown",
   "metadata": {},
   "source": [
    "Essential boundary conditions\n",
    "----\n",
    "Essential boundary conditions are less natural: We have to set the solution field to the given Dirichlet values, and restrict the test-functions to 0 on the Dirichlet boundary:\n",
    "\n",
    "$$\n",
    "\\text{find } u \\in H^1, u = u_D \\text{ on } \\Gamma_D \\text{ s.t. } A(u,v) = f(v) \\quad \\forall \\, v \\in H^1, v = 0 \\text{ on } \\Gamma_D\n",
    "$$\n",
    "\n",
    "We split the solution vector into two parts: The given coefficients on the Dirichlet boundary, and all other including internal coefficients and coefficients on the natural boundaries:\n",
    "\n",
    "$$\n",
    "u = \\left( \\begin{array}{c} u_D \\\\ u_f \\end{array} \\right)\n",
    "$$\n",
    "\n",
    "(f like free). Accordingly, the matrix and the right hand side are split as\n",
    "\n",
    "$$\n",
    "A = \\left( \\begin{array}{cc} A_{DD} & A_{Df} \\\\ A_{fD} & A_{ff} \\end{array} \\right)\n",
    "\\qquad\n",
    "f = \\left( \\begin{array}{c} f_D \\\\ f_f \\end{array} \\right)\n",
    "$$\n",
    "\n",
    "The test functions are reduced to the free nodes. Thus, the equations to solve are\n",
    "\n",
    "$$\n",
    "A_{fD} u_D + A_{ff} u_f = f_f\n",
    "$$\n",
    "\n",
    "The given $u_D$ is moved to the right hand side, and thus\n",
    "\n",
    "$$\n",
    "u_f = {A_{ff}}^{-1} (f_f - A_{fD} u_D).\n",
    "$$\n",
    "\n",
    "It is convenient to assemble the complete matrix, invert a part of the matrix, end extend by zero:\n",
    "\n",
    "$$\n",
    "A^{-1,ff} := \n",
    "\\left( \\begin{array}{cc} 0 & 0 \\\\ 0 & A_{ff}^{-1} \\end{array} \\right)\n",
    "$$\n",
    "\n",
    "\n",
    "The case of homogeneous Dirichlet boundary condtions $u_D = 0$ is simple: We just say\n",
    "\n",
    "$$\n",
    "u = A^{-1,ff} f\n",
    "$$"
   ]
  },
  {
   "cell_type": "markdown",
   "metadata": {},
   "source": [
    "In NGSolve, the finite element space maintains a BitArray marking the free degrees of freedom. It is used to invert the sub-matrix:"
   ]
  },
  {
   "cell_type": "code",
   "execution_count": 6,
   "metadata": {},
   "outputs": [],
   "source": [
    "# fes = H1(mesh, dirichlet=\"left|bottom\")\n",
    "# u.vec.data = a.mat.Inverse(fes.FreeDofs()) * f.vec"
   ]
  },
  {
   "cell_type": "markdown",
   "metadata": {},
   "source": [
    "Non-homogeneous Dirichlet b.c. are reduced to homogeneous once as follows: Choose some function $\\widetilde u$ such that \n",
    "\n",
    "$$\n",
    "\\widetilde u = u_D \\quad \\text{on } \\Gamma_D\n",
    "$$\n",
    "\n",
    "and set $u = \\widetilde u + w$. So we have to find a correction $w$ with $w = 0$ on $\\Gamma_D$ and\n",
    "\n",
    "$$\n",
    "A(w,v) = f(v) - A(\\widetilde u , v) \\qquad \\forall \\, v \\text{ with }  v = 0 \\text{ on } \\Gamma_D\n",
    "$$"
   ]
  },
  {
   "cell_type": "code",
   "execution_count": 7,
   "metadata": {},
   "outputs": [],
   "source": [
    "from netgen.geom2d import unit_square\n",
    "mesh = Mesh(unit_square.GenerateMesh(maxh=0.1))\n",
    "\n",
    "fes = H1(mesh, order=3, dirichlet=\"bottom|left|right\")\n",
    "gfu = GridFunction(fes)\n",
    "a = BilinearForm(fes)\n",
    "f = LinearForm (fes)\n",
    "\n",
    "u = fes.TrialFunction()\n",
    "v = fes.TestFunction()\n",
    "\n",
    "from math import pi\n",
    "uD = sin(2*pi*x)\n",
    "g = 1\n",
    "\n",
    "a += SymbolicBFI (grad(u)*grad(v))\n",
    "\n",
    "# assemble and solve\n",
    "a.Assemble()\n",
    "f.Assemble()"
   ]
  },
  {
   "cell_type": "markdown",
   "metadata": {},
   "source": [
    "Now we set the Dirichlet boundary values and don't worry about the rest. The Set - function of a GridFunction does some kind of interpolation."
   ]
  },
  {
   "cell_type": "code",
   "execution_count": 8,
   "metadata": {},
   "outputs": [],
   "source": [
    "gfu.Set (uD, definedon=mesh.Boundaries(\"bottom\"))\n",
    "Draw(gfu)"
   ]
  },
  {
   "cell_type": "markdown",
   "metadata": {},
   "source": [
    "Now we compute the correction:"
   ]
  },
  {
   "cell_type": "code",
   "execution_count": 9,
   "metadata": {},
   "outputs": [],
   "source": [
    "r = f.vec.CreateVector()\n",
    "r.data = f.vec - a.mat * gfu.vec\n",
    "gfu.vec.data += a.mat.Inverse(fes.FreeDofs()) * r\n",
    "\n",
    "Redraw()"
   ]
  },
  {
   "cell_type": "code",
   "execution_count": null,
   "metadata": {},
   "outputs": [],
   "source": []
  }
 ],
 "metadata": {
  "kernelspec": {
   "display_name": "Python 3",
   "language": "python",
   "name": "python3"
  },
  "language_info": {
   "codemirror_mode": {
    "name": "ipython",
    "version": 3
   },
   "file_extension": ".py",
   "mimetype": "text/x-python",
   "name": "python",
   "nbconvert_exporter": "python",
   "pygments_lexer": "ipython3",
   "version": "3.6.6"
  }
 },
 "nbformat": 4,
 "nbformat_minor": 2
}
