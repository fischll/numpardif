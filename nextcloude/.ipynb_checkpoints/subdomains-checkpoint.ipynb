{
 "cells": [
  {
   "cell_type": "markdown",
   "metadata": {},
   "source": [
    "Variable Coefficients\n",
    "===\n",
    "$\\DeclareMathOperator{\\opdiv}{div}$\n",
    "\n",
    "A setup with varying heat-conductivity is modeled by the equation\n",
    "\n",
    "$$\n",
    "-\\opdiv \\lambda(x) \\nabla u(x) = f(x),\n",
    "$$\n",
    "\n",
    "where $\\lambda$ is the heat-conductivity, relating the heat-flux \n",
    "\n",
    "$$\n",
    "q = -\\lambda \\nabla u\n",
    "$$\n",
    "\n",
    "to the temperature gradient $\\nabla u$.\n",
    "\n",
    "In the case of discontinuous $\\lambda$, the equation is understood in distributional sense. This includes the interface conditions: The temperature on the left and right side are equal, and the heat flux leaving the left side enters the right side:\n",
    "\n",
    "\\begin{eqnarray*}\n",
    "u_l & = & u_r \\\\\n",
    "\\lambda_l \\frac{\\partial u_r}{\\partial n} & = & \\lambda_r \\frac{\\partial u_r}{\\partial n}\n",
    "\\end{eqnarray*}\n",
    "\n",
    "The variational form is: find $u \\in H^1(\\Omega)$\n",
    "\n",
    "$$\n",
    "\\int_\\Omega \\lambda(x) \\nabla u \\nabla v = \\int_\\Omega f v\n",
    "$$\n",
    "\n",
    "There is no issue with discontinuous coefficients. Both interface conditions are included: \n",
    "* continuity of temperature $u$ by the continuity of the trial space\n",
    "* continuity of the heat flux in weak sense, such as Neumann boundary conditions"
   ]
  },
  {
   "cell_type": "code",
   "execution_count": 1,
   "metadata": {
    "collapsed": true
   },
   "outputs": [],
   "source": [
    "import netgen.gui\n",
    "from ngsolve import *\n",
    "%gui tk"
   ]
  },
  {
   "cell_type": "markdown",
   "metadata": {},
   "source": [
    "Make a 2D geometry:"
   ]
  },
  {
   "cell_type": "code",
   "execution_count": 4,
   "metadata": {
    "collapsed": true
   },
   "outputs": [],
   "source": [
    "from netgen.geom2d import *\n",
    "geo = SplineGeometry()\n",
    "geo.AddRectangle( (0,0), (1,1), leftdomain=1, rightdomain=0, \n",
    "                 bcs=['b','r','t','l'])\n",
    "geo.AddCircle( (0.3,0.7), 0.1, leftdomain=2, rightdomain=1, bc=\"circ\")\n",
    "geo.AddRectangle ( (0.2,0.2), (0.9,0.3), leftdomain=3, rightdomain=1)\n",
    "geo.SetMaterial(1, \"air\")\n",
    "geo.SetMaterial(2, \"source\")\n",
    "geo.SetMaterial(3, \"bar\")\n",
    "\n",
    "mesh = Mesh(geo.GenerateMesh(maxh=0.03))\n",
    "mesh.Curve(3)\n",
    "Draw (mesh)"
   ]
  },
  {
   "cell_type": "code",
   "execution_count": 5,
   "metadata": {},
   "outputs": [
    {
     "name": "stdout",
     "output_type": "stream",
     "text": [
      "('air', 'source', 'bar')\n"
     ]
    }
   ],
   "source": [
    "print (mesh.GetMaterials())"
   ]
  },
  {
   "cell_type": "code",
   "execution_count": 6,
   "metadata": {},
   "outputs": [
    {
     "name": "stdout",
     "output_type": "stream",
     "text": [
      "('b', 'r', 't', 'l', 'circ', 'circ', 'circ', 'circ', 'default', 'default', 'default', 'default')\n"
     ]
    }
   ],
   "source": [
    "print (mesh.GetBoundaries())"
   ]
  },
  {
   "cell_type": "code",
   "execution_count": 7,
   "metadata": {
    "collapsed": true
   },
   "outputs": [],
   "source": [
    "fes = H1(mesh, order=3, dirichlet=\"b|r\")\n",
    "u = fes.TrialFunction()\n",
    "v = fes.TestFunction()"
   ]
  },
  {
   "cell_type": "markdown",
   "metadata": {},
   "source": [
    "make a coefficient function taking one constant per material. Uses Python list comprehension."
   ]
  },
  {
   "cell_type": "code",
   "execution_count": 8,
   "metadata": {
    "collapsed": true
   },
   "outputs": [],
   "source": [
    "lamvalues = { \"air\" : 1, \"bar\" : 100, \"source\" : 2 }\n",
    "lam = CoefficientFunction( \n",
    "    [lamvalues[mat] for mat in mesh.GetMaterials()])\n",
    "Draw (lam, mesh, \"lambda\")"
   ]
  },
  {
   "cell_type": "code",
   "execution_count": 9,
   "metadata": {},
   "outputs": [
    {
     "data": {
      "text/plain": [
       "{'air': 1, 'bar': 100, 'source': 2}"
      ]
     },
     "execution_count": 9,
     "metadata": {},
     "output_type": "execute_result"
    }
   ],
   "source": [
    "lamvalues"
   ]
  },
  {
   "cell_type": "markdown",
   "metadata": {},
   "source": [
    "use conductivity in bilinear-form:"
   ]
  },
  {
   "cell_type": "code",
   "execution_count": 10,
   "metadata": {
    "collapsed": true
   },
   "outputs": [],
   "source": [
    "a = BilinearForm(fes)\n",
    "a += SymbolicBFI (lam * grad(u) * grad(v))\n",
    "f = LinearForm(fes)\n",
    "f += SymbolicLFI (1 * v, definedon=mesh.Materials(\"source\"))\n",
    "a.Assemble()\n",
    "f.Assemble()"
   ]
  },
  {
   "cell_type": "code",
   "execution_count": 16,
   "metadata": {},
   "outputs": [
    {
     "name": "stdout",
     "output_type": "stream",
     "text": [
      "type(reg) <class 'ngsolve.comp.Region'>\n",
      "vol or boundary:  VorB.VOL\n",
      "mask = 0: 011\n"
     ]
    }
   ],
   "source": [
    "reg = mesh.Materials(\"source|bar\")\n",
    "print (\"type(reg)\", type(reg))\n",
    "print (\"vol or boundary: \", reg.VB())\n",
    "print (\"mask =\", reg.Mask())"
   ]
  },
  {
   "cell_type": "code",
   "execution_count": 19,
   "metadata": {},
   "outputs": [
    {
     "name": "stdout",
     "output_type": "stream",
     "text": [
      "VorB.BND\n",
      "0: 000011110000\n"
     ]
    }
   ],
   "source": [
    "bndreg = mesh.Boundaries(\"circ\")\n",
    "print (bndreg.VB())\n",
    "print (bndreg.Mask())"
   ]
  },
  {
   "cell_type": "code",
   "execution_count": 20,
   "metadata": {
    "collapsed": true
   },
   "outputs": [],
   "source": [
    "gfu = GridFunction(fes)\n",
    "gfu.vec.data = a.mat.Inverse(fes.FreeDofs()) * f.vec\n",
    "Draw (gfu, mesh, \"temperature\")\n",
    "Draw (grad(gfu), mesh, \"gradient\")\n",
    "Draw (-lam*grad(gfu), mesh, \"heatflux\")"
   ]
  },
  {
   "cell_type": "code",
   "execution_count": null,
   "metadata": {
    "collapsed": true
   },
   "outputs": [],
   "source": []
  },
  {
   "cell_type": "code",
   "execution_count": null,
   "metadata": {
    "collapsed": true
   },
   "outputs": [],
   "source": []
  }
 ],
 "metadata": {
  "kernelspec": {
   "display_name": "Python 3",
   "language": "python",
   "name": "python3"
  },
  "language_info": {
   "codemirror_mode": {
    "name": "ipython",
    "version": 3
   },
   "file_extension": ".py",
   "mimetype": "text/x-python",
   "name": "python",
   "nbconvert_exporter": "python",
   "pygments_lexer": "ipython3",
   "version": "3.6.6"
  }
 },
 "nbformat": 4,
 "nbformat_minor": 2
}
