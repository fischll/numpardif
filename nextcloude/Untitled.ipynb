{
 "cells": [
  {
   "cell_type": "code",
   "execution_count": 1,
   "metadata": {},
   "outputs": [],
   "source": [
    "import netgen.gui\n",
    "from ngsolve import *\n",
    "%gui tk"
   ]
  },
  {
   "cell_type": "code",
   "execution_count": 2,
   "metadata": {},
   "outputs": [],
   "source": [
    "from netgen.geom2d import *\n",
    "geom = SplineGeometry()\n",
    "pnts = [(0,0), (2,0), (2,1), (1,1), (1,2), (0,2)]\n",
    "nums = [geom.AppendPoint(*p) for p in pnts]\n",
    "lines = [(nums[0], nums[1], 10, 1, 0, \"b\"),\n",
    "         (nums[1], nums[2], 10, 1, 0, \"rb\"),\n",
    "         (nums[2], nums[3], 10, 1, 0, \"ul\"),\n",
    "         (nums[3], nums[4], 10, 1, 0, \"ru\"),\n",
    "         (nums[4], nums[5], 10, 1, 0, \"ul\"),\n",
    "         (nums[5], nums[0], 10, 1, 0, \"l\")]\n",
    "\n",
    "for p0, p1, bn, ml, mr, name in lines:\n",
    "    geom.Append( [ \"line\", p0, p1 ],  bc=bn, leftdomain=ml, rightdomain=mr)\n",
    "    #geom.Append( [ \"line\", p0, p1 ], bc=bn, leftdomain=ml, rightdomain=mr)\n",
    "\n",
    "mesh = Mesh(geom.GenerateMesh(maxh=0.2))\n",
    "Draw(mesh)"
   ]
  },
  {
   "cell_type": "code",
   "execution_count": 3,
   "metadata": {},
   "outputs": [],
   "source": [
    "#def FEmSpace\n",
    "fes = H1(mesh, order=3, dirichlet =\".*\")\n",
    "a = BilinearForm(fes)\n",
    "f = LinearForm(fes)\n",
    "gfu = GridFunction(fes)"
   ]
  },
  {
   "cell_type": "code",
   "execution_count": 4,
   "metadata": {},
   "outputs": [
    {
     "name": "stdout",
     "output_type": "stream",
     "text": [
      "('default', 'default', 'default', 'default', 'default', 'default', 'default', 'default', 'default', 'default')\n"
     ]
    }
   ],
   "source": [
    "fes.ndof\n",
    "print(mesh.GetBoundaries())"
   ]
  },
  {
   "cell_type": "code",
   "execution_count": 5,
   "metadata": {},
   "outputs": [],
   "source": [
    "#def test and trial-functions\n",
    "u = fes.TrialFunction()\n",
    "v = fes.TestFunction()\n",
    "a += SymbolicBFI (grad(u)*grad(v))\n",
    "funcf = 1\n",
    "f += SymbolicLFI (funcf*v)"
   ]
  },
  {
   "cell_type": "code",
   "execution_count": 6,
   "metadata": {},
   "outputs": [],
   "source": [
    "a.Assemble()\n",
    "f.Assemble()"
   ]
  },
  {
   "cell_type": "code",
   "execution_count": 7,
   "metadata": {},
   "outputs": [],
   "source": [
    "gfu.vec.data = a.mat.Inverse(freedofs = fes.FreeDofs()) * f.vec\n",
    "Draw (gfu, mesh, \"temperature\")\n",
    "Draw (-grad(gfu), mesh, \"grad_temp\")"
   ]
  },
  {
   "cell_type": "code",
   "execution_count": 8,
   "metadata": {},
   "outputs": [],
   "source": [
    "error_L2 = []\n",
    "error_H1 = []\n",
    "for i in [1,8]:\n",
    "    fes = H1(mesh, order=i, dirichlet =\".*\")\n",
    "    a = BilinearForm(fes)\n",
    "    f = LinearForm(fes)\n",
    "    gfu1 = GridFunction(fes)\n",
    "    u = fes.TrialFunction()\n",
    "    v = fes.TestFunction()\n",
    "    a += SymbolicBFI (grad(u)*grad(v))\n",
    "    funcf = 1\n",
    "    f += SymbolicLFI (funcf*v)\n",
    "    a.Assemble()\n",
    "    f.Assemble()\n",
    "    gfu1.vec.data = a.mat.Inverse(freedofs = fes.FreeDofs()) * f.vec\n",
    "    \n",
    "    fes = H1(mesh, order=i, dirichlet =\".*\")\n",
    "    a = BilinearForm(fes)\n",
    "    f = LinearForm(fes)\n",
    "    gfu2 = GridFunction(fes)\n",
    "    u = fes.TrialFunction()\n",
    "    v = fes.TestFunction()\n",
    "    a += SymbolicBFI (grad(u)*grad(v))\n",
    "    funcf = 1\n",
    "    f += SymbolicLFI (funcf*v)\n",
    "    a.Assemble()\n",
    "    f.Assemble()\n",
    "    gfu2.vec.data = a.mat.Inverse(freedofs = fes.FreeDofs()) * f.vec\n",
    "    error_L2.append(Integrate((gfu1-gfu2)*(gfu1-gfu2), mesh))\n",
    "    error_H1.append(Integrate((grad(gfu1)-grad(gfu2))*(grad(gfu1)-grad(gfu2)), mesh))"
   ]
  },
  {
   "cell_type": "code",
   "execution_count": null,
   "metadata": {},
   "outputs": [],
   "source": []
  }
 ],
 "metadata": {
  "kernelspec": {
   "display_name": "Python 3",
   "language": "python",
   "name": "python3"
  },
  "language_info": {
   "codemirror_mode": {
    "name": "ipython",
    "version": 3
   },
   "file_extension": ".py",
   "mimetype": "text/x-python",
   "name": "python",
   "nbconvert_exporter": "python",
   "pygments_lexer": "ipython3",
   "version": "3.6.6"
  }
 },
 "nbformat": 4,
 "nbformat_minor": 2
}
