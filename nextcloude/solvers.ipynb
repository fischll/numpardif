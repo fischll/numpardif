{
 "cells": [
  {
   "cell_type": "markdown",
   "metadata": {},
   "source": [
    "Iterative Solvers\n",
    "===\n",
    "\n",
    "So far we have used direct solvers to solve the linear system of equations. Although a direct solver can profit from the sparse matrix, it's arithmetic complexity is sub-optimal. For large-scale problems iterative solvers are a must.\n",
    "\n",
    "The conjugate gradient (cg) method is the standard method for symmetric and positive definite matrices. It's convergence rate depends on a preconditioner, what is a cheap approximative inverse to the matrix."
   ]
  },
  {
   "cell_type": "code",
   "execution_count": 1,
   "metadata": {
    "collapsed": true
   },
   "outputs": [],
   "source": [
    "import netgen.gui\n",
    "from ngsolve import *\n",
    "%gui tk"
   ]
  },
  {
   "cell_type": "markdown",
   "metadata": {},
   "source": [
    "We generate a 3D geometry and mesh using the constructive solid geometry (CSG) modeler of Netgen:"
   ]
  },
  {
   "cell_type": "code",
   "execution_count": 10,
   "metadata": {
    "collapsed": true
   },
   "outputs": [],
   "source": [
    "from netgen.csg import *\n",
    "geo = CSGeometry()\n",
    "cube = OrthoBrick (Pnt(0,0,0), Pnt(1,1,1)).bc(\"outer\")\n",
    "cyl = Cylinder( Pnt(1,0.5,0.5), Pnt(0,0.5,0.5), 0.2).bc(\"inner\")\n",
    "geo.Add (cube-cyl, col=(0,0,1))\n",
    "geo.Draw()\n",
    "\n",
    "mesh = Mesh(geo.GenerateMesh(maxh=0.1))\n",
    "mesh.Refine()\n",
    "mesh.Refine()\n",
    "mesh.Curve(3)\n",
    "Draw (mesh)"
   ]
  },
  {
   "cell_type": "code",
   "execution_count": 11,
   "metadata": {},
   "outputs": [
    {
     "name": "stdout",
     "output_type": "stream",
     "text": [
      "we have 1589538 unknowns\n"
     ]
    }
   ],
   "source": [
    "fes = H1(mesh, order=3, dirichlet=\"outer\", flags = { \"wb_withoutedges\" : True })\n",
    "print (\"we have\", fes.ndof, \"unknowns\")\n",
    "u = fes.TrialFunction()\n",
    "v = fes.TestFunction()\n",
    "\n",
    "a = BilinearForm(fes)\n",
    "a += SymbolicBFI(grad(u)*grad(v))\n",
    "\n",
    "f = LinearForm(fes)\n",
    "f += SymbolicLFI(v)\n",
    "\n",
    "# c = Preconditioner(a, \"local\")\n",
    "# c = Preconditioner(a, \"direct\", inverse=\"sparsecholesky\")\n",
    "c = Preconditioner(a, \"bddc\")\n",
    "\n",
    "gfu = GridFunction(fes)"
   ]
  },
  {
   "cell_type": "markdown",
   "metadata": {},
   "source": [
    "assemble system and setup preconditioner in parallel:"
   ]
  },
  {
   "cell_type": "code",
   "execution_count": 12,
   "metadata": {
    "collapsed": true
   },
   "outputs": [],
   "source": [
    "ngsglobals.msg_level=5\n",
    "with TaskManager():\n",
    "    a.Assemble()\n",
    "    f.Assemble()"
   ]
  },
  {
   "cell_type": "markdown",
   "metadata": {},
   "source": [
    "solve the system using the preconditioned conjugate gradient method:"
   ]
  },
  {
   "cell_type": "code",
   "execution_count": 13,
   "metadata": {
    "scrolled": false
   },
   "outputs": [
    {
     "name": "stdout",
     "output_type": "stream",
     "text": [
      "it =  0  err =  0.28862781630691464\n",
      "it =  1  err =  0.10684320380282808\n",
      "it =  2  err =  0.08694568937068343\n",
      "it =  3  err =  0.07161777381046253\n",
      "it =  4  err =  0.05866794979024328\n",
      "it =  5  err =  0.045272293052670845\n",
      "it =  6  err =  0.028589895087126477\n",
      "it =  7  err =  0.018831507044259222\n",
      "it =  8  err =  0.014428572396744301\n",
      "it =  9  err =  0.009424883508505082\n",
      "it =  10  err =  0.006399809095338783\n",
      "it =  11  err =  0.004819552146547561\n",
      "it =  12  err =  0.0033374515130286594\n",
      "it =  13  err =  0.002240916551297694\n",
      "it =  14  err =  0.0015146186589075226\n",
      "it =  15  err =  0.0010769777263741885\n",
      "it =  16  err =  0.0007714379534315349\n",
      "it =  17  err =  0.0005107855477309455\n",
      "it =  18  err =  0.00034380924632675336\n",
      "it =  19  err =  0.00023760166679236342\n",
      "it =  20  err =  0.00015933394463376794\n",
      "it =  21  err =  0.000104679585109688\n",
      "it =  22  err =  6.986881902040638e-05\n",
      "it =  23  err =  4.73089653954801e-05\n",
      "it =  24  err =  3.192110983386464e-05\n",
      "it =  25  err =  2.1075175839086192e-05\n",
      "it =  26  err =  1.3953431022090374e-05\n",
      "it =  27  err =  9.62128580334964e-06\n",
      "it =  28  err =  6.7129324477703386e-06\n",
      "it =  29  err =  4.4360790136446e-06\n",
      "it =  30  err =  2.8989144644106257e-06\n",
      "it =  31  err =  1.9169167421625196e-06\n",
      "it =  32  err =  1.2801353296945818e-06\n",
      "it =  33  err =  8.612368945821686e-07\n",
      "it =  34  err =  5.679575522209043e-07\n",
      "it =  35  err =  3.7734689292699575e-07\n",
      "it =  36  err =  2.6279961701886457e-07\n",
      "it =  37  err =  2.1224374139998745e-07\n",
      "it =  38  err =  1.5431395528025365e-07\n",
      "it =  39  err =  9.523021626697329e-08\n",
      "it =  40  err =  6.233588624416584e-08\n",
      "it =  41  err =  4.222692308952154e-08\n",
      "it =  42  err =  2.825566616991536e-08\n",
      "it =  43  err =  1.847235143116806e-08\n",
      "it =  44  err =  1.2043691571201101e-08\n",
      "it =  45  err =  7.929011306572962e-09\n",
      "it =  46  err =  5.399462992815872e-09\n",
      "it =  47  err =  4.219983175938815e-09\n",
      "it =  48  err =  3.0370962486843045e-09\n",
      "it =  49  err =  1.8824937526933726e-09\n",
      "it =  50  err =  1.2071800901847402e-09\n",
      "it =  51  err =  7.914212827926563e-10\n",
      "it =  52  err =  5.344324162623051e-10\n",
      "it =  53  err =  3.6507227141327255e-10\n",
      "it =  54  err =  2.377620201155788e-10\n",
      "it =  55  err =  1.547084621544343e-10\n",
      "it =  56  err =  1.0345528790865577e-10\n",
      "it =  57  err =  7.456602101020849e-11\n",
      "it =  58  err =  5.645009513013779e-11\n",
      "it =  59  err =  3.636739408400554e-11\n",
      "it =  60  err =  2.3160353767888294e-11\n",
      "it =  61  err =  1.4949775712786526e-11\n",
      "it =  62  err =  9.954080481499227e-12\n",
      "it =  63  err =  7.0246456299401305e-12\n",
      "it =  64  err =  5.212563996632452e-12\n",
      "it =  65  err =  3.5195529646268223e-12\n",
      "it =  66  err =  2.2905701045584757e-12\n",
      "it =  67  err =  1.6803656252344273e-12\n",
      "it =  68  err =  1.418149272277632e-12\n",
      "it =  69  err =  8.57890501816266e-13\n",
      "it =  70  err =  5.561092786690246e-13\n",
      "it =  71  err =  3.7521443562390834e-13\n",
      "it =  72  err =  2.456482887944206e-13\n"
     ]
    }
   ],
   "source": [
    "from ngsolve.solvers import CG\n",
    "\n",
    "with TaskManager():\n",
    "    CG (mat=a.mat, pre=c.mat, rhs=f.vec, sol=gfu.vec, \n",
    "        printrates=True, maxsteps=200)\n",
    "Draw(gfu)"
   ]
  },
  {
   "cell_type": "code",
   "execution_count": null,
   "metadata": {
    "collapsed": true
   },
   "outputs": [],
   "source": []
  }
 ],
 "metadata": {
  "kernelspec": {
   "display_name": "Python 3",
   "language": "python",
   "name": "python3"
  },
  "language_info": {
   "codemirror_mode": {
    "name": "ipython",
    "version": 3
   },
   "file_extension": ".py",
   "mimetype": "text/x-python",
   "name": "python",
   "nbconvert_exporter": "python",
   "pygments_lexer": "ipython3",
   "version": "3.7.0"
  }
 },
 "nbformat": 4,
 "nbformat_minor": 2
}
